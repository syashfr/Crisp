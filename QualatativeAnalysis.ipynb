{
 "cells": [
  {
   "cell_type": "code",
   "execution_count": null,
   "metadata": {},
   "outputs": [],
   "source": [
    "import pandas as pd\n",
    "from sklearn.decomposition import NMF\n",
    "import matplotlib.pyplot as plt\n",
    "import seaborn as sns\n",
    "from sklearn.feature_extraction.text import TfidfVectorizer"
   ]
  },
  {
   "cell_type": "code",
   "execution_count": null,
   "metadata": {},
   "outputs": [],
   "source": [
    "cust_rev = pd.read_csv('customer_review.txt', delimiter='\\t')"
   ]
  },
  {
   "cell_type": "code",
   "execution_count": null,
   "metadata": {},
   "outputs": [],
   "source": [
    "cust_rev['review'].head()"
   ]
  },
  {
   "cell_type": "code",
   "execution_count": null,
   "metadata": {
    "scrolled": true
   },
   "outputs": [],
   "source": [
    "\n",
    "tfidf_vectorizer = TfidfVectorizer(max_df=0.9, min_df=1, max_features = 100, use_idf=True)\n",
    "\n",
    "tfidf = tfidf_vectorizer.fit_transform(cust_rev['review'])\n",
    "tfidf_feature_names = tfidf_vectorizer.get_feature_names()\n",
    "doc_term_matrix_tfidf = pd.DataFrame(tfidf.toarray(), columns=list(tfidf_feature_names))\n",
    "doc_term_matrix_tfidf"
   ]
  },
  {
   "cell_type": "code",
   "execution_count": null,
   "metadata": {},
   "outputs": [],
   "source": [
    "nmf = NMF(n_components=7, random_state=0, alpha=.1, init='nndsvd').fit(tfidf)"
   ]
  },
  {
   "cell_type": "code",
   "execution_count": null,
   "metadata": {},
   "outputs": [],
   "source": [
    "def display_topics(model, feature_names, no_top_words):\n",
    "    for topic_idx, topic in enumerate(model.components_):\n",
    "        print(\"Topic %d:\" % (topic_idx))\n",
    "        print(\" \".join([feature_names[i]\n",
    "                          for i in topic.argsort()[:-no_top_words - 1:-1]]))"
   ]
  },
  {
   "cell_type": "code",
   "execution_count": null,
   "metadata": {},
   "outputs": [],
   "source": [
    "display_topics(nmf, tfidf_feature_names, no_top_words=7)"
   ]
  },
  {
   "cell_type": "code",
   "execution_count": null,
   "metadata": {},
   "outputs": [],
   "source": [
    "#Defining Topic Labels\n",
    "nmf_remap = {0: 'Freshness and Quality', 1: 'Good customer Service', 2: 'Delivery Satisfaction', 3: 'Expensive products', 4: 'Easy Usage', \n",
    "             5: 'Local produce', 6: 'No English Version'}"
   ]
  },
  {
   "cell_type": "code",
   "execution_count": null,
   "metadata": {},
   "outputs": [],
   "source": [
    "nmf_topic_values = nmf.transform(tfidf)\n",
    "cust_rev['nmf_topics'] = nmf_topic_values.argmax(axis=1)\n",
    "#cust_rev.head()\n",
    "cust_rev['nmf_topics'] = cust_rev['nmf_topics'].map(nmf_remap)"
   ]
  },
  {
   "cell_type": "code",
   "execution_count": null,
   "metadata": {},
   "outputs": [],
   "source": [
    "nmf_x = cust_rev['nmf_topics'].value_counts()\n",
    "nmf_y = nmf_x.sort_index()\n",
    "plt.figure(figsize=(50,30))\n",
    "sns.barplot(nmf_x, nmf_y.index)\n",
    "plt.title(\"NMF Topic Distribution\", fontsize=50)\n",
    "plt.ylabel('Customer Review Topics', fontsize=50)\n",
    "plt.yticks(fontsize=40)\n",
    "plt.xlabel('Frequency', fontsize=50)\n",
    "plt.xticks(fontsize=40)"
   ]
  },
  {
   "cell_type": "code",
   "execution_count": null,
   "metadata": {},
   "outputs": [],
   "source": [
    "##trying LDA\n",
    "rom sklearn.decomposition import LatentDirichletAllocation\n",
    "from sklearn.feature_extraction.text import CountVectorizer\n",
    "tf_vectorizer = CountVectorizer(max_df=0.9, min_df=1, max_features=5000)\n",
    "tf = tf_vectorizer.fit_transform(cust_rev['review'].values.astype('U'))\n",
    "tf_feature_names = tf_vectorizer.get_feature_names()\n",
    "doc_term_matrix = pd.DataFrame(tf.toarray(), columns=list(tf_feature_names))\n",
    "doc_term_matrix\n",
    "lda_model = LatentDirichletAllocation(n_components=10, learning_method='online', max_iter=500, random_state=0).fit(tf)\n",
    "display_topics(lda_model, tf_feature_names, no_top_words=9)\n",
    "\n",
    "lda_remap = {0: 'Customer Service', 1: 'Local', 2: 'Communication', 3: 'Price', \n",
    "             4: 'Great Service', 5: '', 6: 'Care about Employees', \n",
    "             7: 'Option for English', 8: 'Customer Service', 9: 'Unknown1'}"
   ]
  },
  {
   "cell_type": "code",
   "execution_count": null,
   "metadata": {},
   "outputs": [],
   "source": []
  },
  {
   "cell_type": "code",
   "execution_count": null,
   "metadata": {},
   "outputs": [],
   "source": []
  }
 ],
 "metadata": {
  "kernelspec": {
   "display_name": "Python 3",
   "language": "python",
   "name": "python3"
  },
  "language_info": {
   "codemirror_mode": {
    "name": "ipython",
    "version": 3
   },
   "file_extension": ".py",
   "mimetype": "text/x-python",
   "name": "python",
   "nbconvert_exporter": "python",
   "pygments_lexer": "ipython3",
   "version": "3.7.6"
  }
 },
 "nbformat": 4,
 "nbformat_minor": 4
}
